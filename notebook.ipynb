{
 "cells": [
  {
   "cell_type": "code",
   "execution_count": 1,
   "metadata": {},
   "outputs": [],
   "source": [
    "import openai\n",
    "from os import getenv\n",
    "from dotenv import load_dotenv\n",
    "from openai import OpenAI"
   ]
  },
  {
   "cell_type": "code",
   "execution_count": 2,
   "metadata": {},
   "outputs": [],
   "source": [
    "load_dotenv(\".env\")\n",
    "\n",
    "client = OpenAI()\n",
    "openai.api_key=getenv('OPENAI_API_KEY')\n"
   ]
  },
  {
   "cell_type": "code",
   "execution_count": 3,
   "metadata": {},
   "outputs": [],
   "source": [
    "def create_response(content):\n",
    "  response = client.chat.completions.create(\n",
    "    model = \"gpt-4-1106-preview\",\n",
    "    messages=[{\n",
    "      \"role\":\"user\",\n",
    "      \"content\":content\n",
    "    }]\n",
    "  )\n",
    "  return response.choices[0].message.content"
   ]
  },
  {
   "cell_type": "code",
   "execution_count": 4,
   "metadata": {},
   "outputs": [
    {
     "name": "stdout",
     "output_type": "stream",
     "text": [
      "Pinging a specific port is not possible with the traditional `ping` command in Linux because `ping` uses the ICMP protocol, which doesn't have a concept of ports. Ports are used with TCP and UDP protocols, so if you want to check the availability of a specific port, you'll need to use different tools designed for these protocols.\n",
      "\n",
      "One common utility to check if a port on a server is open is `nc` (netcat), and here's how you can use it:\n",
      "\n",
      "```bash\n",
      "nc -vz <hostname_or_ip> <port>\n",
      "```\n",
      "- `-v` stands for verbose, which tells `nc` to provide more detailed output.\n",
      "- `-z` tells `nc` to scan without sending any data to the server.\n",
      "\n",
      "For example, to check if port 80 is open on example.com, you would run:\n",
      "```bash\n",
      "nc -vz example.com 80\n",
      "```\n",
      "\n",
      "Another tool that can be used is `nmap`, which is a powerful network scanning tool. You can use it to see if a port is open like this:\n",
      "\n",
      "```bash\n",
      "nmap -p <port> <hostname_or_ip>\n",
      "```\n",
      "- `-p` specifies the port number.\n",
      "\n",
      "For instance, to scan port 22 on 192.168.1.1, you would use:\n",
      "```bash\n",
      "nmap -p 22 192.168.1.1\n",
      "```\n",
      "\n",
      "Please note that `nmap` is much more powerful and provides extensive options for scanning networks and ports. The above command is a very basic usage of `nmap`.\n",
      "\n",
      "Additionally, you can use `telnet` to check if you can connect to a specific port:\n",
      "\n",
      "```bash\n",
      "telnet <hostname_or_ip> <port>\n",
      "```\n",
      "\n",
      "For example:\n",
      "```bash\n",
      "telnet example.com 80\n",
      "```\n",
      "\n",
      "If the command is successful, the port is open, and you will be connected (you'll likely see some output then the connection will remain open). If the port is not open or a firewall is blocking access, the command will fail to connect.\n",
      "\n",
      "Please remember that arbitrary port scanning can be considered intrusive by network administrators, and performing scans on networks that you do not own or have permission to analyze may be illegal or against network policy. Always ensure that you have the necessary permissions to scan networks or ports.\n"
     ]
    }
   ],
   "source": [
    "text = input(\"escribe algo\")\n",
    "if text:\n",
    "    print(create_response(text))"
   ]
  }
 ],
 "metadata": {
  "kernelspec": {
   "display_name": "chatvenv",
   "language": "python",
   "name": "python3"
  },
  "language_info": {
   "codemirror_mode": {
    "name": "ipython",
    "version": 3
   },
   "file_extension": ".py",
   "mimetype": "text/x-python",
   "name": "python",
   "nbconvert_exporter": "python",
   "pygments_lexer": "ipython3",
   "version": "3.11.6"
  }
 },
 "nbformat": 4,
 "nbformat_minor": 2
}
